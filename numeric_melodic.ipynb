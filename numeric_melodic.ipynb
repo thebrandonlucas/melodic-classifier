{
 "cells": [
  {
   "cell_type": "code",
   "execution_count": 1,
   "metadata": {},
   "outputs": [],
   "source": [
    "import numpy as np\n",
    "import pandas as pd\n",
    "import os, sys"
   ]
  },
  {
   "cell_type": "code",
   "execution_count": 2,
   "metadata": {},
   "outputs": [],
   "source": [
    "orig_dir = \"C:/Users/thebr/Desktop/Programming/melodic-classifier/testing_data\"\n",
    "\n",
    "def getFiles(path, substring, *args):\n",
    "    array = []\n",
    "    for root, dirs, files in os.walk(path):\n",
    "            for file in files:\n",
    "                stop = False\n",
    "                if substring in file:\n",
    "                    for arg in args: \n",
    "                        if arg in file: \n",
    "                            stop = True\n",
    "                    if stop is True: \n",
    "                        continue\n",
    "                    filepath = root + '/' + file\n",
    "                    array.append(filepath)\n",
    "                    # print(filepath)\n",
    "    return array;"
   ]
  },
  {
   "cell_type": "code",
   "execution_count": 3,
   "metadata": {},
   "outputs": [],
   "source": [
    "os.chdir(orig_dir)\n",
    "\n",
    "f_artifact = []\n",
    "t_artifact = []\n",
    "f_non_artifact = []\n",
    "t_non_artifact = []\n",
    "count = 0\n",
    "for root, dirs, files in os.walk(orig_dir):\n",
    "    for directory in dirs:\n",
    "        # make this an option later\n",
    "        if \"Preclin\" in directory:\n",
    "            os.chdir(directory)\n",
    "            # the files that indicate which id's are artifacts\n",
    "            artifact_numbers_file = open(\"fix_s8.txt\")\n",
    "            line = artifact_numbers_file.readline()\n",
    "            artifact_numbers_file.close()\n",
    "            artifact_numbers = line.strip().split(\",\")\n",
    "            # every var after \"t\" is substrings to exclude\n",
    "            f_files = getFiles(root + '/' + directory, \"f\", \"EV\", \"index\", \"IC\", \"._\", \".html\", \"DS\", \"png\", \"fix\")\n",
    "            t_files = getFiles(root + '/' + directory, \"t\", \"EV\", \"index\", \"IC\", \"._\", \"f\", \".html\", \"DS\", \"png\", \"fix\")\n",
    "            for file_path in f_files:\n",
    "                filename = file_path.split(\"/\")[-1]\n",
    "                file_id = filename.split(\"f\")[1]\n",
    "                file_id = file_id.split(\".\")[0]\n",
    "                if file_id in artifact_numbers:\n",
    "                    f_artifact.append(file_path)\n",
    "                else:\n",
    "                    f_non_artifact.append(file_path)\n",
    "            for file_path in t_files:\n",
    "                filename = file_path.split(\"/\")[-1]\n",
    "                file_id = filename.split(\"t\")[1]\n",
    "                file_id = file_id.split(\".\")[0]\n",
    "                if file_id in artifact_numbers:\n",
    "                    t_artifact.append(file_path)\n",
    "                else:\n",
    "                    t_non_artifact.append(file_path)\n",
    "        os.chdir(root)\n",
    "        \n"
   ]
  },
  {
   "cell_type": "code",
   "execution_count": null,
   "metadata": {},
   "outputs": [],
   "source": []
  },
  {
   "cell_type": "code",
   "execution_count": 7,
   "metadata": {
    "scrolled": true
   },
   "outputs": [
    {
     "name": "stdout",
     "output_type": "stream",
     "text": [
      "478085\n"
     ]
    },
    {
     "ename": "ValueError",
     "evalue": "Found input variables with inconsistent numbers of samples: [478085, 1238]",
     "output_type": "error",
     "traceback": [
      "\u001b[1;31m---------------------------------------------------------------------------\u001b[0m",
      "\u001b[1;31mValueError\u001b[0m                                Traceback (most recent call last)",
      "\u001b[1;32m<ipython-input-7-db1eace4beef>\u001b[0m in \u001b[0;36m<module>\u001b[1;34m\u001b[0m\n\u001b[0;32m     83\u001b[0m \u001b[1;31m# data = np.array(data)\u001b[0m\u001b[1;33m\u001b[0m\u001b[1;33m\u001b[0m\u001b[1;33m\u001b[0m\u001b[0m\n\u001b[0;32m     84\u001b[0m \u001b[1;31m# labels = np.array(labels)\u001b[0m\u001b[1;33m\u001b[0m\u001b[1;33m\u001b[0m\u001b[1;33m\u001b[0m\u001b[0m\n\u001b[1;32m---> 85\u001b[1;33m \u001b[0mX_train\u001b[0m\u001b[1;33m,\u001b[0m \u001b[0mX_test\u001b[0m\u001b[1;33m,\u001b[0m \u001b[0my_train\u001b[0m\u001b[1;33m,\u001b[0m \u001b[0my_test\u001b[0m \u001b[1;33m=\u001b[0m \u001b[0mtrain_test_split\u001b[0m\u001b[1;33m(\u001b[0m\u001b[0mdata\u001b[0m\u001b[1;33m,\u001b[0m \u001b[0mlabels\u001b[0m\u001b[1;33m,\u001b[0m \u001b[0mtest_size\u001b[0m\u001b[1;33m=\u001b[0m\u001b[1;36m0.2\u001b[0m\u001b[1;33m,\u001b[0m \u001b[0mrandom_state\u001b[0m\u001b[1;33m=\u001b[0m\u001b[1;36m42\u001b[0m\u001b[1;33m)\u001b[0m\u001b[1;33m\u001b[0m\u001b[1;33m\u001b[0m\u001b[0m\n\u001b[0m",
      "\u001b[1;32m~\\Anaconda3\\lib\\site-packages\\sklearn\\model_selection\\_split.py\u001b[0m in \u001b[0;36mtrain_test_split\u001b[1;34m(*arrays, **options)\u001b[0m\n\u001b[0;32m   2182\u001b[0m         \u001b[0mtest_size\u001b[0m \u001b[1;33m=\u001b[0m \u001b[1;36m0.25\u001b[0m\u001b[1;33m\u001b[0m\u001b[1;33m\u001b[0m\u001b[0m\n\u001b[0;32m   2183\u001b[0m \u001b[1;33m\u001b[0m\u001b[0m\n\u001b[1;32m-> 2184\u001b[1;33m     \u001b[0marrays\u001b[0m \u001b[1;33m=\u001b[0m \u001b[0mindexable\u001b[0m\u001b[1;33m(\u001b[0m\u001b[1;33m*\u001b[0m\u001b[0marrays\u001b[0m\u001b[1;33m)\u001b[0m\u001b[1;33m\u001b[0m\u001b[1;33m\u001b[0m\u001b[0m\n\u001b[0m\u001b[0;32m   2185\u001b[0m \u001b[1;33m\u001b[0m\u001b[0m\n\u001b[0;32m   2186\u001b[0m     \u001b[1;32mif\u001b[0m \u001b[0mshuffle\u001b[0m \u001b[1;32mis\u001b[0m \u001b[1;32mFalse\u001b[0m\u001b[1;33m:\u001b[0m\u001b[1;33m\u001b[0m\u001b[1;33m\u001b[0m\u001b[0m\n",
      "\u001b[1;32m~\\Anaconda3\\lib\\site-packages\\sklearn\\utils\\validation.py\u001b[0m in \u001b[0;36mindexable\u001b[1;34m(*iterables)\u001b[0m\n\u001b[0;32m    258\u001b[0m         \u001b[1;32melse\u001b[0m\u001b[1;33m:\u001b[0m\u001b[1;33m\u001b[0m\u001b[1;33m\u001b[0m\u001b[0m\n\u001b[0;32m    259\u001b[0m             \u001b[0mresult\u001b[0m\u001b[1;33m.\u001b[0m\u001b[0mappend\u001b[0m\u001b[1;33m(\u001b[0m\u001b[0mnp\u001b[0m\u001b[1;33m.\u001b[0m\u001b[0marray\u001b[0m\u001b[1;33m(\u001b[0m\u001b[0mX\u001b[0m\u001b[1;33m)\u001b[0m\u001b[1;33m)\u001b[0m\u001b[1;33m\u001b[0m\u001b[1;33m\u001b[0m\u001b[0m\n\u001b[1;32m--> 260\u001b[1;33m     \u001b[0mcheck_consistent_length\u001b[0m\u001b[1;33m(\u001b[0m\u001b[1;33m*\u001b[0m\u001b[0mresult\u001b[0m\u001b[1;33m)\u001b[0m\u001b[1;33m\u001b[0m\u001b[1;33m\u001b[0m\u001b[0m\n\u001b[0m\u001b[0;32m    261\u001b[0m     \u001b[1;32mreturn\u001b[0m \u001b[0mresult\u001b[0m\u001b[1;33m\u001b[0m\u001b[1;33m\u001b[0m\u001b[0m\n\u001b[0;32m    262\u001b[0m \u001b[1;33m\u001b[0m\u001b[0m\n",
      "\u001b[1;32m~\\Anaconda3\\lib\\site-packages\\sklearn\\utils\\validation.py\u001b[0m in \u001b[0;36mcheck_consistent_length\u001b[1;34m(*arrays)\u001b[0m\n\u001b[0;32m    233\u001b[0m     \u001b[1;32mif\u001b[0m \u001b[0mlen\u001b[0m\u001b[1;33m(\u001b[0m\u001b[0muniques\u001b[0m\u001b[1;33m)\u001b[0m \u001b[1;33m>\u001b[0m \u001b[1;36m1\u001b[0m\u001b[1;33m:\u001b[0m\u001b[1;33m\u001b[0m\u001b[1;33m\u001b[0m\u001b[0m\n\u001b[0;32m    234\u001b[0m         raise ValueError(\"Found input variables with inconsistent numbers of\"\n\u001b[1;32m--> 235\u001b[1;33m                          \" samples: %r\" % [int(l) for l in lengths])\n\u001b[0m\u001b[0;32m    236\u001b[0m \u001b[1;33m\u001b[0m\u001b[0m\n\u001b[0;32m    237\u001b[0m \u001b[1;33m\u001b[0m\u001b[0m\n",
      "\u001b[1;31mValueError\u001b[0m: Found input variables with inconsistent numbers of samples: [478085, 1238]"
     ]
    }
   ],
   "source": [
    "from sklearn.model_selection import train_test_split\n",
    "from numpy import median\n",
    "\n",
    "# load all the text file data\n",
    "# we're loading both the f and t file data, \n",
    "# the first half of the matrix will be the \n",
    "# f data and the second half the t data\n",
    "data = []\n",
    "labels = []\n",
    "count = 0 \n",
    "for f in f_artifact: \n",
    "    file = open(f)\n",
    "    temp = []\n",
    "    count = 0\n",
    "    for line in file: \n",
    "        # Fill values after 88 with median\n",
    "        if count == 88: \n",
    "            median = np.median(temp)\n",
    "            while count < 175: \n",
    "                for i in range(0, 175 - 88): \n",
    "                    temp.append(median)\n",
    "                    data.append(temp)\n",
    "                count += 1\n",
    "        # Get the current file's numbers as one line\n",
    "        temp.append(float(line.strip()))\n",
    "        count += 1\n",
    "    data.append(temp)\n",
    "    labels.append(1)\n",
    "\n",
    "for f in f_non_artifact: \n",
    "    file = open(f)\n",
    "    temp = []\n",
    "    count = 0\n",
    "    for line in file: \n",
    "        # Fill values after 88 with median\n",
    "        if count == 88: \n",
    "            median = np.median(temp)\n",
    "            while count < 175: \n",
    "                for i in range(0, 175 - 88): \n",
    "                    temp.append(median)\n",
    "                    data.append(temp)\n",
    "                count += 1\n",
    "        # Get the current file's numbers as one line\n",
    "        temp.append(float(line.strip()))\n",
    "        count += 1\n",
    "    data.append(temp)\n",
    "    labels.append(0)\n",
    "    \n",
    "for t in t_artifact: \n",
    "    file = open(t)\n",
    "    temp = []\n",
    "    count = 0\n",
    "    for line in file: \n",
    "        # Clip all values after 175\n",
    "        if count == 175: \n",
    "            break\n",
    "        # Get the current file's numbers as one line\n",
    "        temp.append(float(line.strip()))\n",
    "        count += 1\n",
    "    data.append(temp)\n",
    "    labels.append(1)\n",
    "\n",
    "for t in t_non_artifact: \n",
    "    file = open(t)\n",
    "    temp = []\n",
    "    count = 0\n",
    "    for line in file: \n",
    "        # Clip all values after 175\n",
    "        if count == 175: \n",
    "            break\n",
    "        # Get the current file's numbers as one line\n",
    "        temp.append(float(line.strip()))\n",
    "        count += 1\n",
    "    data.append(temp)\n",
    "    labels.append(0)\n",
    "\n",
    "print(len(data))\n",
    "# for i in data: \n",
    "#     print(len(i))\n",
    "#     if len(data) != 175: \n",
    "#         print(i)\n",
    "# print(type(data[0][0]))\n",
    "# data = np.array(data)\n",
    "# labels = np.array(labels)\n",
    "X_train, X_test, y_train, y_test = train_test_split(data, labels, test_size=0.2, random_state=42)"
   ]
  },
  {
   "cell_type": "code",
   "execution_count": 5,
   "metadata": {},
   "outputs": [],
   "source": [
    "# for i in range(0, len(data[0])): \n",
    "#     print(data[0][i])\n",
    "# print(len(data[0]))"
   ]
  },
  {
   "cell_type": "code",
   "execution_count": 6,
   "metadata": {},
   "outputs": [
    {
     "name": "stderr",
     "output_type": "stream",
     "text": [
      "C:\\Users\\thebr\\Anaconda3\\lib\\site-packages\\sklearn\\utils\\deprecation.py:58: DeprecationWarning: Class Imputer is deprecated; Imputer was deprecated in version 0.20 and will be removed in 0.22. Import impute.SimpleImputer from sklearn instead.\n",
      "  warnings.warn(msg, category=DeprecationWarning)\n"
     ]
    },
    {
     "ename": "NameError",
     "evalue": "name 'X_train' is not defined",
     "output_type": "error",
     "traceback": [
      "\u001b[1;31m---------------------------------------------------------------------------\u001b[0m",
      "\u001b[1;31mNameError\u001b[0m                                 Traceback (most recent call last)",
      "\u001b[1;32m<ipython-input-6-29439551de9b>\u001b[0m in \u001b[0;36m<module>\u001b[1;34m\u001b[0m\n\u001b[0;32m      3\u001b[0m \u001b[0mimputer\u001b[0m \u001b[1;33m=\u001b[0m \u001b[0mImputer\u001b[0m\u001b[1;33m(\u001b[0m\u001b[0mstrategy\u001b[0m\u001b[1;33m=\u001b[0m\u001b[1;34m\"median\"\u001b[0m\u001b[1;33m)\u001b[0m\u001b[1;33m\u001b[0m\u001b[1;33m\u001b[0m\u001b[0m\n\u001b[0;32m      4\u001b[0m \u001b[1;33m\u001b[0m\u001b[0m\n\u001b[1;32m----> 5\u001b[1;33m \u001b[0mimputer\u001b[0m\u001b[1;33m.\u001b[0m\u001b[0mfit_transform\u001b[0m\u001b[1;33m(\u001b[0m\u001b[0mX_train\u001b[0m\u001b[1;33m)\u001b[0m\u001b[1;33m\u001b[0m\u001b[1;33m\u001b[0m\u001b[0m\n\u001b[0m",
      "\u001b[1;31mNameError\u001b[0m: name 'X_train' is not defined"
     ]
    }
   ],
   "source": [
    "from sklearn.preprocessing import Imputer\n",
    "\n",
    "imputer = Imputer(strategy=\"median\")\n",
    "\n",
    "imputer.fit_transform(X_train)"
   ]
  },
  {
   "cell_type": "code",
   "execution_count": null,
   "metadata": {},
   "outputs": [],
   "source": [
    "from sklearn.model_selection import cross_val_score\n",
    "from sklearn.model_selection import RandomizedSearchCV\n",
    "from sklearn.svm import SVC\n",
    "from sklearn.metrics import accuracy_score\n",
    "from sklearn.neighbors import KNeighborsClassifier\n",
    "\n",
    "# print(X_train.shape)\n",
    "# print(y_train.shape)\n",
    "\n",
    "# svm_clf = SVC(kernel=\"poly\", degree=3, coef0=1, C=5)\n",
    "# svm_clf.fit(X_train, y_train)\n",
    "# y_pred = svm_clf.predict(X_test)\n",
    "\n",
    "accuracy_score(y_test, y_pred)\n",
    "\n",
    "# score = cross_val_score(log_clf, X_train, y_train, cv=5, verbose=3)\n",
    "# score.mean()"
   ]
  },
  {
   "cell_type": "code",
   "execution_count": null,
   "metadata": {},
   "outputs": [],
   "source": [
    "from sklearn.model_selection import RandomizedSearchCV\n",
    "from scipy.stats import reciprocal, uniform\n",
    "\n",
    "param_distributions = {\"gamma\": reciprocal(0.001, 0.1), \"C\": uniform(1, 10)}\n",
    "rnd_search_cv = RandomizedSearchCV(svm_clf, param_distributions, n_iter=10, verbose=2, cv=5)\n",
    "rnd_search_cv.fit(X_train, y_train)"
   ]
  },
  {
   "cell_type": "code",
   "execution_count": null,
   "metadata": {},
   "outputs": [],
   "source": [
    "rnd_search_cv.best_estimator_"
   ]
  },
  {
   "cell_type": "code",
   "execution_count": null,
   "metadata": {},
   "outputs": [],
   "source": [
    "rnd_search_cv.best_score_"
   ]
  },
  {
   "cell_type": "code",
   "execution_count": null,
   "metadata": {},
   "outputs": [],
   "source": [
    "rnd_search_cv.best_estimator_.fit(X_train, y_train)\n",
    "\n",
    "y_pred = rnd_search_cv.best_estimator_.predict(X_test)\n",
    "accuracy_score(y_test, y_pred)"
   ]
  },
  {
   "cell_type": "code",
   "execution_count": null,
   "metadata": {},
   "outputs": [],
   "source": []
  }
 ],
 "metadata": {
  "kernelspec": {
   "display_name": "Python 3",
   "language": "python",
   "name": "python3"
  },
  "language_info": {
   "codemirror_mode": {
    "name": "ipython",
    "version": 3
   },
   "file_extension": ".py",
   "mimetype": "text/x-python",
   "name": "python",
   "nbconvert_exporter": "python",
   "pygments_lexer": "ipython3",
   "version": "3.6.8"
  }
 },
 "nbformat": 4,
 "nbformat_minor": 2
}
